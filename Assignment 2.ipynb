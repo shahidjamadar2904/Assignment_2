{
 "cells": [
  {
   "cell_type": "code",
   "execution_count": 9,
   "id": "7db79bc5",
   "metadata": {},
   "outputs": [
    {
     "name": "stdout",
     "output_type": "stream",
     "text": [
      "Sum is: 126\n",
      "Mul is: 378\n",
      "The Result of the calculation was: \n",
      " \t15876\n"
     ]
    }
   ],
   "source": [
    "Number_1 = 100\n",
    "Number_2 = 26\n",
    "SumResult = Number_1 + Number_2\n",
    "print(\"Sum is: \"+ str(SumResult))\n",
    "\n",
    "Sum_Multi = SumResult * 3\n",
    "print(\"Mul is: \"+ str(Sum_Multi))\n",
    "EXPo = SumResult**2\n",
    "print(\"The Result of the calculation was: \\n \\t\"+str(EXPo))"
   ]
  },
  {
   "cell_type": "code",
   "execution_count": 3,
   "id": "a6d4e92f",
   "metadata": {},
   "outputs": [
    {
     "name": "stdout",
     "output_type": "stream",
     "text": [
      "Name: Shahid\n",
      "Year of birth: 2001\n",
      "Age: 22\n",
      "Password: 01Sha484\n"
     ]
    }
   ],
   "source": [
    "Name = str(input(\"Name: \"))\n",
    "Birth_Year = int(input(\"Year of birth: \"))\n",
    "Age = int(input(\"Age: \"))\n",
    "Last_YearNumber = str(Birth_Year)[-2:]\n",
    "First_3_name = Name[:3]\n",
    "PowerOfAge = str(Age**2)\n",
    "Password = Last_YearNumber+First_3_name+PowerOfAge\n",
    "print(\"Password: \"+Password)"
   ]
  },
  {
   "cell_type": "code",
   "execution_count": 9,
   "id": "da1f4204",
   "metadata": {},
   "outputs": [
    {
     "name": "stdout",
     "output_type": "stream",
     "text": [
      "First number: 6\n",
      "Second number: 7\n",
      "One of the number is even\n"
     ]
    }
   ],
   "source": [
    "First_number = int(input(\"First number: \"))\n",
    "Second_number = int(input(\"Second number: \"))\n",
    "first_modulo = First_number % 2\n",
    "second_modulo = Second_number % 2\n",
    "if((first_modulo == 0) and (second_modulo == 0)):\n",
    "    print(\"Both numbers are even\")\n",
    "elif((first_modulo == 0) or (second_modulo == 0)):\n",
    "    print(\"One of the number is even\")\n",
    "else:\n",
    "    print(\"Both the number are odd\")"
   ]
  },
  {
   "cell_type": "code",
   "execution_count": 16,
   "id": "c7e20daf",
   "metadata": {},
   "outputs": [
    {
     "name": "stdout",
     "output_type": "stream",
     "text": [
      "Given an integer: 6\n",
      "The sum was: 15\n"
     ]
    }
   ],
   "source": [
    "n = int(input(\"Given an integer: \"))\n",
    "my_sum = 0\n",
    "i=0\n",
    "#replace this pass (a do-nothing) statement with your code\n",
    "while i < n:\n",
    "    my_sum = my_sum + i\n",
    "    i+=1\n",
    "print(\"The sum was: \"+str(my_sum))"
   ]
  },
  {
   "cell_type": "code",
   "execution_count": 30,
   "id": "d74b33ba",
   "metadata": {},
   "outputs": [
    {
     "name": "stdout",
     "output_type": "stream",
     "text": [
      "Player 1 \n",
      " Guess the Number: 9\n",
      "Player 1 \n",
      " That's right! Number of tries: 1\n",
      "Player 2 \n",
      " Guess the Number: 8\n",
      "Player 2 \n",
      " Try a greater number: 9\n",
      "Player 2 \n",
      " Try a greater number: 10\n",
      "Player 2 \n",
      " That's right! Number of tries: 3\n",
      "Winer is player 1\n"
     ]
    }
   ],
   "source": [
    "import random\n",
    "\n",
    "num = random.randint(1, 10)\n",
    "user_1_num = int(input(\"Player 1 \\n Guess the Number: \"))\n",
    "counter_1 = 1 \n",
    "while num != user_1_num:\n",
    "    if(num < user_1_num):\n",
    "        user_1_num = int(input(\"Player 1 \\n Try a smaller number: \"))\n",
    "        counter_1+=1\n",
    "    else:\n",
    "        user_1_num = int(input(\"Player 1 \\n Try a greater number: \"))\n",
    "        counter_1+=1\n",
    "\n",
    "print(\"Player 1 \\n That's right! Number of tries: \"+ str(counter_1))\n",
    "\n",
    "\n",
    "num_2 = random.randint(1, 10)\n",
    "user_2_num = int(input(\"Player 2 \\n Guess the Number: \"))\n",
    "counter_2 = 1 \n",
    "while num_2 != user_2_num:\n",
    "    if(num_2 < user_2_num):\n",
    "        user_2_num = int(input(\"Player 2 \\n Try a smaller number: \"))\n",
    "        counter_2+=1\n",
    "    else:\n",
    "        user_2_num = int(input(\"Player 2 \\n Try a greater number: \"))\n",
    "        counter_2+=1\n",
    "\n",
    "print(\"Player 2 \\n That's right! Number of tries: \"+ str(counter_2))\n",
    "\n",
    "\n",
    "if(counter_1 > counter_2):\n",
    "    print(\"Winer is player 2\")\n",
    "else:\n",
    "    print(\"Winer is player 1\")"
   ]
  },
  {
   "cell_type": "code",
   "execution_count": null,
   "id": "f3d90fa9",
   "metadata": {},
   "outputs": [],
   "source": []
  }
 ],
 "metadata": {
  "kernelspec": {
   "display_name": "Python 3 (ipykernel)",
   "language": "python",
   "name": "python3"
  },
  "language_info": {
   "codemirror_mode": {
    "name": "ipython",
    "version": 3
   },
   "file_extension": ".py",
   "mimetype": "text/x-python",
   "name": "python",
   "nbconvert_exporter": "python",
   "pygments_lexer": "ipython3",
   "version": "3.9.0"
  }
 },
 "nbformat": 4,
 "nbformat_minor": 5
}
